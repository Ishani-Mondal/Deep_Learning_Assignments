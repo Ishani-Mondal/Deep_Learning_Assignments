{
 "cells": [
  {
   "cell_type": "code",
   "execution_count": 19,
   "metadata": {},
   "outputs": [],
   "source": [
    "'''\n",
    "Assignment 1: Linear Regression using Numpy (No deep learning/ automatic differentiation libraries are allowed)\n",
    "\n",
    "\n",
    "Use Python2.7 environment\n",
    "Roll No: 17CS71P01\n",
    "Name: Ishani Mondal\n",
    "\n",
    "'''\n",
    "import numpy as np\n",
    "import matplotlib.pyplot as plt\n",
    "%matplotlib inline"
   ]
  },
  {
   "cell_type": "code",
   "execution_count": 20,
   "metadata": {},
   "outputs": [
    {
     "data": {
      "image/png": "[encoded data removed]",
      "text/plain": [
       "<matplotlib.figure.Figure at 0x51ff650>"
      ]
     },
     "metadata": {},
     "output_type": "display_data"
    }
   ],
   "source": [
    "global N\n",
    "def generate_dataset():\n",
    "    '''\n",
    "    Function to generate the dataset for our problem\n",
    "    Args:\n",
    "        None\n",
    "    Return:\n",
    "        X: \n",
    "    '''\n",
    "    N = 600\n",
    "    X = np.random.randint(100, size=N)\n",
    "    e = np.random.normal(0., 12., N)\n",
    "    y = 10*X + e #Note the use of broadcasting here\n",
    "    \n",
    "    return X, y\n",
    "\n",
    "X, y = generate_dataset()\n",
    "# Now lets visualize our data\n",
    "plt.plot(X, y, 'bo')\n",
    "plt.show()\n",
    "\n",
    "N = len(X)\n",
    "\n",
    "# shuffle the dataset randomly\n",
    "# X, y contains the data after shuffling randomly X and y\n",
    "\n",
    "c = (list(zip(X,y)))\n",
    "np.random.shuffle(c)\n",
    "\n",
    "a, b = zip(*c)\n",
    "\n",
    "X = np.asarray(a)\n",
    "y = np.asarray(b)\n",
    "\n",
    "#np.random.shuffle(y)\n",
    "\n",
    "# Created train and test set\n",
    "training_size = int(0.8*N)\n",
    "\n",
    "X_train = X[:training_size]\n",
    "y_train = y[:training_size]\n",
    "X_test = X[training_size:]\n",
    "y_test = y[training_size:]"
   ]
  },
  {
   "cell_type": "code",
   "execution_count": 21,
   "metadata": {},
   "outputs": [
    {
     "name": "stdout",
     "output_type": "stream",
     "text": [
      "Starting Training with Gradient Descent\n"
     ]
    },
    {
     "data": {
      "image/png": "[encoded data removed]",
      "text/plain": [
       "<matplotlib.figure.Figure at 0x5f0ee90>"
      ]
     },
     "metadata": {},
     "output_type": "display_data"
    }
   ],
   "source": [
    "class LinearRegression(object):\n",
    "    def __init__(self):\n",
    "        #Initialize all parameters\n",
    "        self.w = np.random.uniform(-1.0,1.0)\n",
    "        self.b = np.random.uniform(-1.0,1.0)\n",
    "    \n",
    "    def forward(self, x):\n",
    "        '''\n",
    "            Do a forward pass of the classifier:\n",
    "            Args:\n",
    "                x: Input X value\n",
    "            Return:\n",
    "                y: y = wx + b\n",
    "        '''\n",
    "        y = self.w * x + self.b\n",
    "\n",
    "        return y\n",
    "        \n",
    "    \n",
    "    def backward(self, x, ypred, y_train, lr):\n",
    "        '''\n",
    "            Computes all gradients and updates the parameters w and b\n",
    "            Args:\n",
    "                x : x\n",
    "                ypred: y=wx+b\n",
    "                y_train = ground truth values\n",
    "                lr = learning rate\n",
    "        '''\n",
    "        #derivative_constant = 2/training_size\n",
    "        loss_difference = np.subtract(ypred,y_train)\n",
    "        product = np.multiply(loss_difference,x)\n",
    "        w_grad = 2 * np.mean(product)\n",
    "        b_grad = 2 * np.mean(loss_difference)\n",
    "        self.w = self.w - lr*w_grad # Updating w\n",
    "        self.b = self.b - lr*b_grad # Updating b\n",
    "\n",
    "def MSELoss(y, ypred):\n",
    "    '''\n",
    "        Args:\n",
    "            y: ground truth labels\n",
    "            ypred: predicted labels\n",
    "        Return:\n",
    "            Mean squared error loss\n",
    "    '''\n",
    "    error = np.subtract(y,ypred)\n",
    "    mse = np.mean(np.power(error, 2))\n",
    "    return mse\n",
    "    #raise NotImplementedError\n",
    "        \n",
    "\n",
    "print 'Starting Training with Gradient Descent'\n",
    "lreg = LinearRegression()\n",
    "\n",
    "epochs = 10000\n",
    "learning_rate = 0.00001\n",
    "\n",
    "loss_history = []\n",
    "epoch_history = []\n",
    "\n",
    "# Gradient Descent\n",
    "for e in range(epochs):\n",
    "    ypred = lreg.forward(X_train)\n",
    "    loss = MSELoss(y_train, ypred)\n",
    "    if e==0 or (e+1)%1000==0:\n",
    "        loss_history.append(loss)\n",
    "        epoch_history.append(e+1)\n",
    "    \n",
    "    lreg.backward(X_train, ypred, y_train, learning_rate)\n",
    "\n",
    "#Plot the decrease in loss with epoch\n",
    "plt.plot(epoch_history, loss_history)\n",
    "plt.show()"
   ]
  },
  {
   "cell_type": "code",
   "execution_count": 22,
   "metadata": {},
   "outputs": [
    {
     "name": "stdout",
     "output_type": "stream",
     "text": [
      "Final Training loss:145.409630873\n",
      "Starting to test\n",
      "Final test loss: 126.728106472\n"
     ]
    }
   ],
   "source": [
    "print 'Final Training loss:' + str(loss)  # Print training loss \n",
    "print 'Starting to test'\n",
    "ypred = lreg.forward(X_test)\n",
    "loss = MSELoss(y_test, ypred)\n",
    "print 'Final test loss: ' + str(loss)"
   ]
  },
  {
   "cell_type": "code",
   "execution_count": 23,
   "metadata": {},
   "outputs": [
    {
     "name": "stdout",
     "output_type": "stream",
     "text": [
      "Visualizing learnt function on test data\n"
     ]
    },
    {
     "data": {
      "image/png": "[encoded data removed]",
      "text/plain": [
       "<matplotlib.figure.Figure at 0x36b0e50>"
      ]
     },
     "metadata": {},
     "output_type": "display_data"
    }
   ],
   "source": [
    "print 'Visualizing learnt function on test data'\n",
    "\n",
    "x_ = np.arange(100)\n",
    "y_ = lreg.w*x_ + lreg.b\n",
    "\n",
    "plt.plot(x_, y_, 'r-', linewidth=2.0)\n",
    "plt.plot(X_test, y_test, 'bo')\n",
    "plt.show()"
   ]
  }
 ],
 "metadata": {
  "kernelspec": {
   "display_name": "Python 2",
   "language": "python",
   "name": "python2"
  },
  "language_info": {
   "codemirror_mode": {
    "name": "ipython",
    "version": 2
   },
   "file_extension": ".py",
   "mimetype": "text/x-python",
   "name": "python",
   "nbconvert_exporter": "python",
   "pygments_lexer": "ipython2",
   "version": "2.7.3"
  }
 },
 "nbformat": 4,
 "nbformat_minor": 2
}
